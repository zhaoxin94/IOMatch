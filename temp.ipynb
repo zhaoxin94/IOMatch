{
 "cells": [
  {
   "cell_type": "code",
   "execution_count": 8,
   "metadata": {},
   "outputs": [
    {
     "name": "stdout",
     "output_type": "stream",
     "text": [
      "/usr/share/fonts/truetype/msttcorefonts/Times_New_Roman.ttf\n",
      "/usr/share/fonts/truetype/msttcorefonts/Times_New_Roman_Bold_Italic.ttf\n",
      "/usr/share/fonts/truetype/msttcorefonts/Times_New_Roman_Bold.ttf\n",
      "/usr/share/fonts/truetype/msttcorefonts/Times_New_Roman_Italic.ttf\n"
     ]
    }
   ],
   "source": [
    "from matplotlib import font_manager\n",
    "import matplotlib as plt\n",
    "\n",
    "plt.get_cachedir()\n",
    "font_list = font_manager.findSystemFonts(fontpaths=None, fontext='ttf')\n",
    "for font in font_list:\n",
    "    if \"Times\" in font:\n",
    "        print(font)"
   ]
  }
 ],
 "metadata": {
  "kernelspec": {
   "display_name": "dl",
   "language": "python",
   "name": "python3"
  },
  "language_info": {
   "codemirror_mode": {
    "name": "ipython",
    "version": 3
   },
   "file_extension": ".py",
   "mimetype": "text/x-python",
   "name": "python",
   "nbconvert_exporter": "python",
   "pygments_lexer": "ipython3",
   "version": "3.8.18"
  }
 },
 "nbformat": 4,
 "nbformat_minor": 2
}
